{
 "cells": [
  {
   "cell_type": "markdown",
   "metadata": {},
   "source": [
    "### Exercice 1:"
   ]
  },
  {
   "cell_type": "markdown",
   "metadata": {},
   "source": [
    "Write a function that takes a string, and two indexes (integers), and returns a slice of that string as well as the length of the string.\n",
    "Call the function, and store the results in two variables"
   ]
  },
  {
   "cell_type": "code",
   "execution_count": 16,
   "metadata": {},
   "outputs": [],
   "source": [
    "#Declare the function\n",
    "def function1(c , a ,b):\n",
    "    n = len(c)\n",
    "    return c[a:b] , n\n",
    "#Call the function\n",
    "c = \"hello  hy gyuhb \"\n",
    "a = 2\n",
    "b = 3\n",
    "\n",
    "#print the result in a well formated format\n",
    "print(function1(c ,a , b))\n"
   ]
  },
  {
   "cell_type": "markdown",
   "metadata": {},
   "source": [
    "### Exercice 2:"
   ]
  },
  {
   "cell_type": "markdown",
   "metadata": {},
   "source": [
    "1. Write a function that takes two arguments, and returns the sum of the two.\n",
    "2. Call the function with the values 1 and 2.1, then check the type of the result.\n",
    "3. Call the function with the values False and 2, then check the type of the result."
   ]
  },
  {
   "cell_type": "code",
   "execution_count": 2,
   "metadata": {},
   "outputs": [
    {
     "name": "stdout",
     "output_type": "stream",
     "text": [
      "3\n"
     ]
    }
   ],
   "source": [
    "#Declare the function\n",
    "def somme(a , b):\n",
    "    t =  (a,b)\n",
    "    return sum(t)\n",
    "\n",
    "\n",
    "\n",
    "#Call with the values 1 and two\n",
    "a = 1\n",
    "b = 2\n",
    "\n",
    "#Check the type of the result\n",
    "print(somme(a,b))"
   ]
  },
  {
   "cell_type": "markdown",
   "metadata": {},
   "source": [
    "### Exercice 3:"
   ]
  },
  {
   "cell_type": "markdown",
   "metadata": {},
   "source": [
    "Write a function that takes a string and returns a dictionary containing character frequency.\n",
    "\n",
    "*example*\n",
    "\n",
    "    string sample: 'test'\n",
    "    \n",
    "    expected result: {'t':2, 'e':1, 's':1}"
   ]
  },
  {
   "cell_type": "code",
   "execution_count": 17,
   "metadata": {},
   "outputs": [
    {
     "name": "stdout",
     "output_type": "stream",
     "text": [
      "{'t': 2, 'e': 1, 's': 1}\n"
     ]
    }
   ],
   "source": [
    "#Declare the function\n",
    "def dic(c):\n",
    "    b = {a:c.count(a) for a in c}\n",
    "    return b\n",
    "c ='test'\n",
    "print(dic(c))\n"
   ]
  },
  {
   "cell_type": "markdown",
   "metadata": {},
   "source": [
    "### Exercice 4:"
   ]
  },
  {
   "cell_type": "markdown",
   "metadata": {},
   "source": [
    "Given two lists, iterate both lists simultaniously, such the first list would display item in original order and the second list in reverse order\n",
    "\n",
    "*example*:"
   ]
  },
  {
   "cell_type": "code",
   "execution_count": 3,
   "metadata": {},
   "outputs": [
    {
     "name": "stdout",
     "output_type": "stream",
     "text": [
      "1 3\n",
      "2 2\n",
      "3 1\n"
     ]
    }
   ],
   "source": [
    "from lib import print_orl #this is a lib you dont have access to\n",
    "print_orl([1,2,3],[1,2,3])"
   ]
  },
  {
   "cell_type": "code",
   "execution_count": 1,
   "metadata": {},
   "outputs": [
    {
     "name": "stdout",
     "output_type": "stream",
     "text": [
      "1 3\n",
      "2 2\n",
      "3 1\n"
     ]
    }
   ],
   "source": [
    "def orl(L ,X):\n",
    "    n = len(L)\n",
    "    for i in range(n):\n",
    "        print(L[i] , X[n-i-1])\n",
    "L=[1,2,3]\n",
    "X=[1,2,3]\n",
    "orl(L,X)\n",
    "       "
   ]
  },
  {
   "cell_type": "markdown",
   "metadata": {},
   "source": [
    "### Exercice 5:"
   ]
  },
  {
   "cell_type": "markdown",
   "metadata": {},
   "source": [
    "Given two 2d arrays, stack them horizontally.\n",
    "\n",
    "*example:*"
   ]
  },
  {
   "cell_type": "code",
   "execution_count": 15,
   "metadata": {},
   "outputs": [
    {
     "name": "stdout",
     "output_type": "stream",
     "text": [
      "[[1. 1. 1. 1. 1.]\n",
      " [1. 1. 1. 1. 1.]]\n",
      "[[0. 0. 0. 0. 0.]\n",
      " [0. 0. 0. 0. 0.]]\n",
      "[[1. 1. 1. 1. 1. 0. 0. 0. 0. 0.]\n",
      " [1. 1. 1. 1. 1. 0. 0. 0. 0. 0.]]\n"
     ]
    }
   ],
   "source": [
    "import numpy as np\n",
    "\n",
    "#The input\n",
    "a = np.ones((1, 10)).reshape(2, -1)\n",
    "b = np.zeros((1, 10)).reshape(2, -1)\n",
    "\n",
    "#Try to print input\n",
    "print(a)\n",
    "print(b)\n",
    "\n",
    "\n",
    "#concatenate horizontally\n",
    "#output shoul look like:     array([[1., 1., 1., 1., 1., 0., 0., 0., 0., 0.],\n",
    "#                                   [1., 1., 1., 1., 1., 0., 0., 0., 0., 0.]])\n",
    "\n",
    "z = np.concatenate([[np.concatenate([a[0] , b[0]])],[ np.concatenate([a[1] , b[1]])]])\n",
    "print(z)\n"
   ]
  },
  {
   "cell_type": "markdown",
   "metadata": {},
   "source": [
    "### exercice 6:"
   ]
  },
  {
   "cell_type": "markdown",
   "metadata": {},
   "source": [
    "Create the following patterns using the bellow arrays a and b, and numpy functions:"
   ]
  },
  {
   "cell_type": "code",
   "execution_count": 121,
   "metadata": {},
   "outputs": [
    {
     "name": "stdout",
     "output_type": "stream",
     "text": [
      "[0. 0. 0. 1. 1. 1. 2. 2. 2. 0. 1. 2. 0. 1. 2. 0. 1. 2.]\n"
     ]
    },
    {
     "data": {
      "text/plain": [
       "array([[1., 1., 1., 1., 1., 1., 1., 1., 1.],\n",
       "       [1., 1., 1., 1., 1., 1., 1., 1., 1.],\n",
       "       [1., 1., 1., 1., 1., 1., 1., 1., 1.]])"
      ]
     },
     "execution_count": 121,
     "metadata": {},
     "output_type": "execute_result"
    }
   ],
   "source": [
    "import  numpy as np\n",
    "a = np.arange(3)\n",
    "b = np.ones((3,3,3))\n",
    "\n",
    "#output1 the following array: array([0, 0, 0, 1, 1, 1, 2, 2, 2, 0, 1, 2, 0, 1, 2, 0, 1, 2])\n",
    "#z = np.full((1,3), [2,2,2])\n",
    "d= np.concatenate((np.zeros(3) , np.ones(3) , np.ones(3)+np.ones(3), a , a , a) ,axis = 0)\n",
    "print(d)\n",
    "#output2 the follwing array: array([[[1., 2., 3.],\n",
    "#                                    [1., 2., 3.],\n",
    "#                                    [1., 2., 3.]],\n",
    "\n",
    "#                                    [[1., 2., 3.],\n",
    "#                                    [1., 2., 3.],\n",
    "#                                    [1., 2., 3.]],\n",
    "\n",
    "#                                    [[1., 2., 3.],\n",
    "#                                    [1., 2., 3.],\n",
    "#                                    [1., 2., 3.]]])\n",
    "#d = np.array([1, 2, 3], ndmin=3)\n",
    "#print(d.reshape((3,3)))\n",
    "a+b  \n",
    "\n",
    "#output3 array([[1., 1., 1., 1., 1., 1., 1., 1., 1.],\n",
    "#                [1., 1., 1., 1., 1., 1., 1., 1., 1.],\n",
    "#                [1., 1., 1., 1., 1., 1., 1., 1., 1.]])\n",
    "\n",
    "\n",
    "np.reshape(b , [3 , -1])\n"
   ]
  },
  {
   "cell_type": "code",
   "execution_count": null,
   "metadata": {},
   "outputs": [],
   "source": []
  },
  {
   "cell_type": "code",
   "execution_count": null,
   "metadata": {},
   "outputs": [],
   "source": []
  },
  {
   "cell_type": "code",
   "execution_count": null,
   "metadata": {},
   "outputs": [],
   "source": []
  },
  {
   "cell_type": "code",
   "execution_count": null,
   "metadata": {},
   "outputs": [],
   "source": []
  },
  {
   "cell_type": "code",
   "execution_count": null,
   "metadata": {},
   "outputs": [],
   "source": []
  },
  {
   "cell_type": "code",
   "execution_count": null,
   "metadata": {},
   "outputs": [],
   "source": []
  },
  {
   "cell_type": "code",
   "execution_count": null,
   "metadata": {},
   "outputs": [],
   "source": []
  }
 ],
 "metadata": {
  "kernelspec": {
   "display_name": "Python 3",
   "language": "python",
   "name": "python3"
  },
  "language_info": {
   "codemirror_mode": {
    "name": "ipython",
    "version": 3
   },
   "file_extension": ".py",
   "mimetype": "text/x-python",
   "name": "python",
   "nbconvert_exporter": "python",
   "pygments_lexer": "ipython3",
   "version": "3.7.6"
  }
 },
 "nbformat": 4,
 "nbformat_minor": 5
}
